{
 "cells": [
  {
   "cell_type": "code",
   "execution_count": null,
   "id": "8e5435c6-967e-4122-8b95-14f7ed76d713",
   "metadata": {},
   "outputs": [],
   "source": []
  }
 ],
 "metadata": {
  "kernelspec": {
   "display_name": "Python 3 (ipykernel)",
   "language": "python",
   "name": "python3"
  },
  "language_info": {
   "name": ""
  }
 },
 "nbformat": 4,
 "nbformat_minor": 5
}
